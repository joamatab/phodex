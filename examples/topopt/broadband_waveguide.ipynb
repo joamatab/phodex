{
 "cells": [
  {
   "cell_type": "code",
   "execution_count": null,
   "metadata": {},
   "outputs": [],
   "source": [
    "import autograd.numpy as np\n",
    "import matplotlib.pyplot as plt\n",
    "import nlopt\n",
    "from IPython import display\n",
    "\n",
    "from phodex.io import filter_stdout\n",
    "from phodex.layout.meep import MultiportDevice2D, Port\n",
    "from phodex.optim.callbacks import combine, logging_callback, plotting_callback\n",
    "from phodex.optim.nlopt import get_epigraph_formulation\n",
    "from phodex.topopt.parametrizations import sigmoid_parametrization"
   ]
  },
  {
   "attachments": {},
   "cell_type": "markdown",
   "metadata": {},
   "source": [
    "First we will define some basic variables such as resolution, materials, and design region size."
   ]
  },
  {
   "cell_type": "code",
   "execution_count": null,
   "metadata": {},
   "outputs": [],
   "source": [
    "wvg_width = 0.5\n",
    "n_core = 3.4865\n",
    "n_clad = 1.4440\n",
    "wvg_height = 0.22\n",
    "resolution = 20\n",
    "wavelengths = np.linspace(1.5, 1.6, 5)\n",
    "design_region = [3, 1.5]"
   ]
  },
  {
   "attachments": {},
   "cell_type": "markdown",
   "metadata": {},
   "source": [
    "Now we set up our device which, in the case of a waveguide, simply consists of an input an an output port.\n",
    "Because we are specifying a waveguide height, `MultiportDevice2D` will assume that we want to run effective index simulations and will do the effective index calculation automatically."
   ]
  },
  {
   "cell_type": "code",
   "execution_count": null,
   "metadata": {},
   "outputs": [],
   "source": [
    "ports = [Port(wvg_width, \"-x\", source=True), Port(wvg_width, \"+x\")]\n",
    "\n",
    "p = MultiportDevice2D(\n",
    "    ports=ports,\n",
    "    n_core=n_core,\n",
    "    n_clad=n_clad,\n",
    "    wvg_height=wvg_height,\n",
    "    wavelengths=wavelengths,\n",
    "    resolution=resolution,\n",
    "    design_region_extent=design_region,\n",
    "    monitor_size_fac=6,\n",
    "    damping=1e-2,\n",
    ")"
   ]
  },
  {
   "attachments": {},
   "cell_type": "markdown",
   "metadata": {},
   "source": [
    "Let's make sure that we got the geometry right!"
   ]
  },
  {
   "cell_type": "code",
   "execution_count": null,
   "metadata": {},
   "outputs": [],
   "source": [
    "p.simulation.plot2D()"
   ]
  },
  {
   "attachments": {},
   "cell_type": "markdown",
   "metadata": {},
   "source": [
    "Looks good.\n",
    "\n",
    "To define our objective functions, we will first need to get the input normalization, which we get by querying our `MultiportDevice2D`. The first time we ask for the normalization, this will trigger a normalization run with a straight waveguide (and no design region)."
   ]
  },
  {
   "cell_type": "code",
   "execution_count": null,
   "metadata": {},
   "outputs": [],
   "source": [
    "input_flux_far = p.normalizations[0][\"flux_far\"]\n",
    "input_flux_near = p.normalizations[0][\"flux_near\"]"
   ]
  },
  {
   "attachments": {},
   "cell_type": "markdown",
   "metadata": {},
   "source": [
    "Now, we can proceed to define our objective function. It takes the S-parameters of each port (propagating _towards_ the port) as arguments.\n",
    "In this case, we will want to maximize the transmission in the output port, and we can do this by minimizing the total loss, i.e. reflection and whatever is not coupled into the fundamental mode of the output port.\n",
    "Of course we can also simply maximize the `s12` parameter, which would probably work fine by itself. But since we have the reflection (`s11`) available, we might as well make use of it!"
   ]
  },
  {
   "cell_type": "code",
   "execution_count": null,
   "metadata": {},
   "outputs": [],
   "source": [
    "def loss(s11, s12):\n",
    "    return 1 - np.abs(s12) ** 2 / input_flux_far\n",
    "\n",
    "def refl(s11, s12):\n",
    "    refl = np.abs(s11) ** 2 / input_flux_near\n",
    "    return refl"
   ]
  },
  {
   "attachments": {},
   "cell_type": "markdown",
   "metadata": {},
   "source": [
    "Now, let's assemble the Meep optimization problem..."
   ]
  },
  {
   "cell_type": "code",
   "execution_count": null,
   "metadata": {},
   "outputs": [],
   "source": [
    "obj_funs = [loss, refl]\n",
    "mpa_opt = p.get_optimization_problem(obj_funs)"
   ]
  },
  {
   "attachments": {},
   "cell_type": "markdown",
   "metadata": {},
   "source": [
    "...and check that all monitors are placed correctly."
   ]
  },
  {
   "cell_type": "code",
   "execution_count": null,
   "metadata": {},
   "outputs": [],
   "source": [
    "mpa_opt.plot2D(True)"
   ]
  },
  {
   "attachments": {},
   "cell_type": "markdown",
   "metadata": {},
   "source": [
    "The last ingredient we need is the parametrization, i.e. the mapping of our design variables (the degrees of freedom in the optimization) to the actual device layout.\n",
    "\n",
    "Here, we will use a simple \"sigmoid\" parametrization that is often encountered in literature, where the material is first low-pass filtered to restrict the minimum feature size and then soft-thresholded using a (relatively steep) logistic function.\n",
    "\n",
    "Note that we pick a simple set of fixed parameters here and will not dwell on feature size constraints and binarization. We will tackle these topics another time."
   ]
  },
  {
   "cell_type": "code",
   "execution_count": null,
   "metadata": {},
   "outputs": [],
   "source": [
    "parametrization = sigmoid_parametrization((p.nx, p.ny), sigma=4, alpha=20)"
   ]
  },
  {
   "attachments": {},
   "cell_type": "markdown",
   "metadata": {},
   "source": [
    "Before we proceed to the actual optimization, we will define a few callback functions that will let us track the optimization progress."
   ]
  },
  {
   "cell_type": "code",
   "execution_count": null,
   "metadata": {},
   "outputs": [],
   "source": [
    "state_dict = {\"obj_hist\": [], \"epivar_hist\": [], \"cur_iter\": 0}\n",
    "log_cb = logging_callback(state_dict, logscale=True)\n",
    "\n",
    "fig = plt.figure(figsize=(9, 6), tight_layout=True)\n",
    "plot_cb = plotting_callback(mpa_opt, p, state_dict, figure=fig)\n",
    "\n",
    "\n",
    "def notebook_updater(*_):\n",
    "    display.display(fig)\n",
    "    display.clear_output(wait=True)"
   ]
  },
  {
   "attachments": {},
   "cell_type": "markdown",
   "metadata": {},
   "source": [
    "Now, we can start to set up the actual optimization. Because we are doing an epigraph optimization, we will need a \"dummy\" variable (representing the linear objective function) in addition to the actual design variables.\n",
    "\n",
    "We will also need to initialize the dummy variable, which we do by running a single forward pass of our optimization problem and setting the epigraph variable to a value slightly above the largest value across all objective functions."
   ]
  },
  {
   "cell_type": "code",
   "execution_count": null,
   "metadata": {},
   "outputs": [],
   "source": [
    "n = p.nx * p.ny + 1\n",
    "x0 = np.full(n, 0.5)\n",
    "lb = np.zeros_like(x0)\n",
    "ub = np.ones_like(x0)\n",
    "\n",
    "t0, _ = mpa_opt([parametrization(x0[1:])], need_gradient=False)\n",
    "x0[0] = 1.05 * np.max(t0)\n",
    "lb[0] = -np.inf\n",
    "ub[0] = np.inf"
   ]
  },
  {
   "attachments": {},
   "cell_type": "markdown",
   "metadata": {},
   "source": [
    "We will also need to get the actual epigraph constraints for our problem, which `phodex` conveniently provides."
   ]
  },
  {
   "cell_type": "code",
   "execution_count": null,
   "metadata": {},
   "outputs": [],
   "source": [
    "nlopt_obj, epi_cst = get_epigraph_formulation(\n",
    "    mpa_opt, parametrization, combine(log_cb, plot_cb, notebook_updater)\n",
    ")\n",
    "epi_tol = np.full(len(obj_funs) * p.nfreq, 1e-4)"
   ]
  },
  {
   "attachments": {},
   "cell_type": "markdown",
   "metadata": {},
   "source": [
    "And now we are finally ready to initialize the optimization! We will use the method of moving asymptotes (MMA) and limit the maximum number of iterations to 100."
   ]
  },
  {
   "cell_type": "code",
   "execution_count": null,
   "metadata": {},
   "outputs": [],
   "source": [
    "opt = nlopt.opt(nlopt.LD_MMA, n)\n",
    "opt.set_lower_bounds(lb)\n",
    "opt.set_upper_bounds(ub)\n",
    "opt.set_min_objective(nlopt_obj)\n",
    "opt.add_inequality_mconstraint(epi_cst, epi_tol)\n",
    "opt.set_param(\"dual_ftol_rel\", 1e-7)\n",
    "opt.set_maxeval(100)"
   ]
  },
  {
   "attachments": {},
   "cell_type": "markdown",
   "metadata": {},
   "source": [
    "And we're off!"
   ]
  },
  {
   "cell_type": "code",
   "execution_count": null,
   "metadata": {},
   "outputs": [],
   "source": [
    "with filter_stdout(\"phodex\"):\n",
    "    x0[:] = opt.optimize(x0)"
   ]
  }
 ],
 "metadata": {
  "kernelspec": {
   "display_name": "google",
   "language": "python",
   "name": "python3"
  },
  "language_info": {
   "codemirror_mode": {
    "name": "ipython",
    "version": 3
   },
   "file_extension": ".py",
   "mimetype": "text/x-python",
   "name": "python",
   "nbconvert_exporter": "python",
   "pygments_lexer": "ipython3",
   "version": "3.11.0"
  },
  "orig_nbformat": 4
 },
 "nbformat": 4,
 "nbformat_minor": 2
}
